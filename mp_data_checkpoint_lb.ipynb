{
 "cells": [
  {
   "cell_type": "code",
   "execution_count": 10,
   "metadata": {},
   "outputs": [],
   "source": [
    "import numpy as np\n",
    "import pandas as pd\n",
    "import os\n",
    "from pymatgen import MPRester\n",
    "import re"
   ]
  },
  {
   "cell_type": "markdown",
   "metadata": {},
   "source": [
    "In the above cell all imports are handled.\n",
    "<br>`from pymatgen import MPRester` is used as an API tool to download the formula and bandwidth of many catalyst"
   ]
  },
  {
   "cell_type": "code",
   "execution_count": 2,
   "metadata": {},
   "outputs": [],
   "source": [
    "exclude = ['O', 'H', 'He', 'Ne', 'Ar', 'As', 'Se', 'Kr', 'Tc', 'Xe', 'Pm', 'Hf', 'Os', 'Ir', 'Hg', 'Tl', 'Ac', 'Pa', 'U', 'Np', 'Pu']\n",
    "include = ['Ag', 'Al', 'Au', 'B', 'Ba', 'Be', 'Bi', 'Br', 'C', 'Ca', 'Cd', 'Ce', 'Cl', 'Co', 'Cr', 'Cs', 'Cu', 'Dy', 'Er', 'Eu', 'F', 'Fe', 'Ga', 'Gd', 'Ge', 'Ho', 'I', 'In', 'K', 'La', 'Li', 'Lu', 'Mg', 'Mn', 'Mo', 'N', 'Na', 'Nb', 'Nd', 'Ni', 'P', 'Pb', 'Pd', 'Pr', 'Pt', 'Rb', 'Re', 'Rh', 'Ru', 'S', 'Sb', 'Sc', 'Si', 'Sm', 'Sn', 'Sr', 'Ta', 'Tb', 'Te', 'Th', 'Ti', 'Tm', 'V', 'W', 'Y', 'Yb', 'Zn', 'Zr']"
   ]
  },
  {
   "cell_type": "markdown",
   "metadata": {},
   "source": [
    "`exclude`: Catalysts with these elements will be excludet in the dataset.\n",
    "<br>`include`: Catalysts with these elements will be inclduet in the dataset."
   ]
  },
  {
   "cell_type": "code",
   "execution_count": 3,
   "metadata": {},
   "outputs": [
    {
     "data": {
      "application/vnd.jupyter.widget-view+json": {
       "model_id": "bf8d7941db93402db0042905c334d844",
       "version_major": 2,
       "version_minor": 0
      },
      "text/plain": [
       "HBox(children=(HTML(value=''), FloatProgress(value=0.0, max=14594.0), HTML(value='')))"
      ]
     },
     "metadata": {},
     "output_type": "display_data"
    }
   ],
   "source": [
    "m = MPRester('ifLyENSM2ZCJUWrl') \n",
    "data = m.query(criteria={\"elements\": {\"$nin\": exclude}, \"nelements\": {\"$lt\": 9}, \"band_gap\": {\"$gt\": 1e-4}}, properties=[\"pretty_formula\", \"band_gap\"])"
   ]
  },
  {
   "cell_type": "markdown",
   "metadata": {},
   "source": [
    "`m = MPRester('ifLyENSM2ZCJUWrl') ` builds a connection to the online database and \n",
    "<br>`data = m.query(...)` downloads the formula and band_gap of the catalysts"
   ]
  },
  {
   "cell_type": "code",
   "execution_count": 59,
   "metadata": {},
   "outputs": [
    {
     "name": "stdout",
     "output_type": "stream",
     "text": [
      "{'pretty_formula': 'Ba3PN', 'band_gap': 0.025499999999999856}\n",
      "{'line': 'Ba3PN', 'content': array([1.        , 0.33333333, 0.33333333, 0.0255    ]), 'columns': ['Ba', 'P', 'N', 'band_gap']}\n"
     ]
    }
   ],
   "source": [
    "def composition_from_formula(formula):\n",
    "    name = formula[\"pretty_formula\"]\n",
    "    band_gap = formula[\"band_gap\"]\n",
    "    elements_and_numbers = re.findall('[A-Z][^A-Z]*', name)\n",
    "    columns = [re.sub(r'[0-9]+', '', s) for s in elements_and_numbers]\n",
    "    columns.append('band_gap')\n",
    "    stoechiometric_faktors = [1  if not any(char.isdigit() for char in element) else int(re.findall(r'\\d+', element)[0]) for element in elements_and_numbers]\n",
    "    content = np.array(stoechiometric_faktors) / max(stoechiometric_faktors)\n",
    "    composition = {'line': name, 'content': np.append(content, band_gap), 'columns' : columns}\n",
    "    return composition   \n"
   ]
  },
  {
   "cell_type": "code",
   "execution_count": null,
   "metadata": {},
   "outputs": [],
   "source": []
  },
  {
   "cell_type": "code",
   "execution_count": null,
   "metadata": {},
   "outputs": [],
   "source": []
  },
  {
   "cell_type": "code",
   "execution_count": 41,
   "metadata": {},
   "outputs": [
    {
     "name": "stdout",
     "output_type": "stream",
     "text": [
      "['21']\n"
     ]
    }
   ],
   "source": [
    "s = 'KMnO21'\n",
    "\n",
    "a = re.findall(r'\\d+', s)\n",
    "print(a)"
   ]
  },
  {
   "cell_type": "code",
   "execution_count": null,
   "metadata": {},
   "outputs": [],
   "source": []
  }
 ],
 "metadata": {
  "kernelspec": {
   "display_name": "Python 3",
   "language": "python",
   "name": "python3"
  },
  "language_info": {
   "codemirror_mode": {
    "name": "ipython",
    "version": 3
   },
   "file_extension": ".py",
   "mimetype": "text/x-python",
   "name": "python",
   "nbconvert_exporter": "python",
   "pygments_lexer": "ipython3",
   "version": "3.8.5"
  }
 },
 "nbformat": 4,
 "nbformat_minor": 4
}
